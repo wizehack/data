{
 "cells": [
  {
   "cell_type": "code",
   "execution_count": 18,
   "metadata": {},
   "outputs": [
    {
     "name": "stdout",
     "output_type": "stream",
     "text": [
      "이름을 입력하세요: \n",
      "김가\n",
      "나이를 입력하세요: \n",
      "25\n",
      "시작 연봉을 입력하세요: \n",
      "20000\n",
      " 총 $2415995를 벌 것이다\n"
     ]
    }
   ],
   "source": [
    "print(\"이름을 입력하세요: \")\n",
    "name = input()\n",
    "\n",
    "print(\"나이를 입력하세요: \")\n",
    "age = int(input())\n",
    "\n",
    "print(\"시작 연봉을 입력하세요: \")\n",
    "salary = float(input())\n",
    "sum = salary # 첫해 연봉\n",
    "\n",
    "while age < 64:\n",
    "    # print('나이 {} : 연봉 {}'.format(age, sum))\n",
    "    age += 1\n",
    "    salary = salary + (salary * 0.05)\n",
    "    sum = sum + salary\n",
    "\n",
    "total_sal = int(sum)\n",
    "\n",
    "print(' 총 ${}를 벌 것이다'.format(total_sal))"
   ]
  },
  {
   "cell_type": "code",
   "execution_count": null,
   "metadata": {},
   "outputs": [],
   "source": []
  },
  {
   "cell_type": "code",
   "execution_count": null,
   "metadata": {},
   "outputs": [],
   "source": [
    "def option1(day):\n",
    "    return 100 * day\n",
    "\n",
    "def option2(day):\n",
    "    i = 1\n",
    "    m = 0\n",
    "    while i<=day:\n",
    "        m = m + (i * 2)\n",
    "        print('{} : {}'.format(m, i))\n",
    "    \n",
    "    return m\n",
    "\n",
    "opt1 = option1(10)\n",
    "opt2 = option2(10)\n",
    "\n",
    "if opt1 > opt2: \n",
    "    print(\"option1 이 유리힘\")\n",
    "else:\n",
    "    print(\"option2 가 유리힘\")\n"
   ]
  },
  {
   "cell_type": "code",
   "execution_count": null,
   "metadata": {},
   "outputs": [],
   "source": []
  }
 ],
 "metadata": {
  "kernelspec": {
   "display_name": "Python 3",
   "language": "python",
   "name": "python3"
  },
  "language_info": {
   "codemirror_mode": {
    "name": "ipython",
    "version": 3
   },
   "file_extension": ".py",
   "mimetype": "text/x-python",
   "name": "python",
   "nbconvert_exporter": "python",
   "pygments_lexer": "ipython3",
   "version": "3.7.4"
  }
 },
 "nbformat": 4,
 "nbformat_minor": 4
}
