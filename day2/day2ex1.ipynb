{
 "cells": [
  {
   "cell_type": "code",
   "execution_count": 1,
   "metadata": {},
   "outputs": [
    {
     "data": {
      "text/plain": [
       "{'name': 'kim', 'age': 20, 'address': 'seoul'}"
      ]
     },
     "execution_count": 1,
     "metadata": {},
     "output_type": "execute_result"
    }
   ],
   "source": [
    "ddata1 = {'name': \"kim\", \"age\":20, \"address\": \"seoul\"}\n",
    "ddata1"
   ]
  },
  {
   "cell_type": "code",
   "execution_count": 3,
   "metadata": {},
   "outputs": [
    {
     "data": {
      "text/plain": [
       "'kim'"
      ]
     },
     "execution_count": 3,
     "metadata": {},
     "output_type": "execute_result"
    }
   ],
   "source": [
    "ddata1['name']"
   ]
  },
  {
   "cell_type": "code",
   "execution_count": 4,
   "metadata": {},
   "outputs": [
    {
     "data": {
      "text/plain": [
       "{100: 'hundred', True: 1, 3232.32: 'fvalue'}"
      ]
     },
     "execution_count": 4,
     "metadata": {},
     "output_type": "execute_result"
    }
   ],
   "source": [
    "ddata2 = {100: \"hundred\", True:1, 3232.32:'fvalue'}\n",
    "ddata2"
   ]
  },
  {
   "cell_type": "code",
   "execution_count": 7,
   "metadata": {},
   "outputs": [
    {
     "data": {
      "text/plain": [
       "('hundred', 1, 'fvalue')"
      ]
     },
     "execution_count": 7,
     "metadata": {},
     "output_type": "execute_result"
    }
   ],
   "source": [
    "ddata2[100], ddata2[True], ddata2[3232.32]"
   ]
  },
  {
   "cell_type": "code",
   "execution_count": 11,
   "metadata": {},
   "outputs": [
    {
     "data": {
      "text/plain": [
       "{'name': 'lee', 'address': 'busan', 'weight': 100}"
      ]
     },
     "execution_count": 11,
     "metadata": {},
     "output_type": "execute_result"
    }
   ],
   "source": [
    "ddata3 = dict(name='lee', address='busan', weight=100)\n",
    "ddata3"
   ]
  },
  {
   "cell_type": "code",
   "execution_count": 16,
   "metadata": {},
   "outputs": [
    {
     "data": {
      "text/plain": [
       "{'name': 'chio', 'age': 30, 'height': 180}"
      ]
     },
     "execution_count": 16,
     "metadata": {},
     "output_type": "execute_result"
    }
   ],
   "source": [
    "ddata4 = dict([('name', 'chio'), ('age', 30), ('height',180)])\n",
    "ddata4"
   ]
  },
  {
   "cell_type": "code",
   "execution_count": 17,
   "metadata": {},
   "outputs": [
    {
     "data": {
      "text/plain": [
       "{'name': 'chio', 'age': 30, 'height': 180, 'weight': 500}"
      ]
     },
     "execution_count": 17,
     "metadata": {},
     "output_type": "execute_result"
    }
   ],
   "source": [
    "ddata4['weight'] = 500\n",
    "ddata4"
   ]
  },
  {
   "cell_type": "code",
   "execution_count": 18,
   "metadata": {},
   "outputs": [
    {
     "data": {
      "text/plain": [
       "(dict_keys(['name', 'age', 'height', 'weight']),\n",
       " dict_values(['chio', 30, 180, 500]),\n",
       " dict_items([('name', 'chio'), ('age', 30), ('height', 180), ('weight', 500)]))"
      ]
     },
     "execution_count": 18,
     "metadata": {},
     "output_type": "execute_result"
    }
   ],
   "source": [
    "ddata4.keys(), ddata4.values(), ddata4.items()"
   ]
  },
  {
   "cell_type": "code",
   "execution_count": 20,
   "metadata": {},
   "outputs": [
    {
     "name": "stdout",
     "output_type": "stream",
     "text": [
      "name\n",
      "age\n",
      "height\n",
      "weight\n"
     ]
    }
   ],
   "source": [
    "for k in ddata4.keys():\n",
    "    print(k)"
   ]
  },
  {
   "cell_type": "code",
   "execution_count": 22,
   "metadata": {},
   "outputs": [
    {
     "name": "stdout",
     "output_type": "stream",
     "text": [
      "chio\n",
      "30\n",
      "180\n",
      "500\n"
     ]
    }
   ],
   "source": [
    "for v in ddata4.values():\n",
    "    print(v)"
   ]
  },
  {
   "cell_type": "code",
   "execution_count": 23,
   "metadata": {},
   "outputs": [
    {
     "name": "stdout",
     "output_type": "stream",
     "text": [
      "('name', 'chio')\n",
      "('age', 30)\n",
      "('height', 180)\n",
      "('weight', 500)\n"
     ]
    }
   ],
   "source": [
    "for i in ddata4.items():\n",
    "    print(i)"
   ]
  },
  {
   "cell_type": "code",
   "execution_count": 24,
   "metadata": {},
   "outputs": [
    {
     "name": "stdout",
     "output_type": "stream",
     "text": [
      "name chio\n",
      "age 30\n",
      "height 180\n",
      "weight 500\n"
     ]
    }
   ],
   "source": [
    "for k, v in ddata4.items():\n",
    "    print(k, v)"
   ]
  },
  {
   "cell_type": "code",
   "execution_count": 26,
   "metadata": {},
   "outputs": [],
   "source": [
    "def person_info(name, age, address):\n",
    "    print('name: {}, age: {}, address{}'.format(name, age, address))"
   ]
  },
  {
   "cell_type": "code",
   "execution_count": 27,
   "metadata": {},
   "outputs": [
    {
     "name": "stdout",
     "output_type": "stream",
     "text": [
      "name: kim, age: 10, addressbusan\n"
     ]
    }
   ],
   "source": [
    "person_info('kim', age=10, address='busan')"
   ]
  },
  {
   "cell_type": "code",
   "execution_count": 28,
   "metadata": {},
   "outputs": [
    {
     "name": "stdout",
     "output_type": "stream",
     "text": [
      "name: lee, age: 30, addressbusan\n"
     ]
    }
   ],
   "source": [
    "ddata1 = {'name':'lee', 'age':30, 'address':'busan'}\n",
    "person_info(**ddata1)"
   ]
  },
  {
   "cell_type": "code",
   "execution_count": 34,
   "metadata": {},
   "outputs": [],
   "source": [
    "def person_info2(**data):\n",
    "    for k, v in data.items():\n",
    "        print(k, v, sep=':')"
   ]
  },
  {
   "cell_type": "code",
   "execution_count": 35,
   "metadata": {},
   "outputs": [
    {
     "name": "stdout",
     "output_type": "stream",
     "text": [
      "name:oh\n",
      "age:10\n"
     ]
    }
   ],
   "source": [
    "person_info2(name='oh', age=10)"
   ]
  },
  {
   "cell_type": "code",
   "execution_count": 39,
   "metadata": {},
   "outputs": [],
   "source": [
    "def person_info3(**data):\n",
    "    if 'age' in data:\n",
    "        print('age:' , data['age'], end=' ')\n",
    "    if 'name' in data:\n",
    "        print('name:', data['name'])"
   ]
  },
  {
   "cell_type": "code",
   "execution_count": 40,
   "metadata": {},
   "outputs": [
    {
     "name": "stdout",
     "output_type": "stream",
     "text": [
      "age: 10 name: oh\n"
     ]
    }
   ],
   "source": [
    "person_info3(name='oh', age=10)"
   ]
  },
  {
   "cell_type": "code",
   "execution_count": 50,
   "metadata": {},
   "outputs": [
    {
     "name": "stdout",
     "output_type": "stream",
     "text": [
      "['red', 'blue', 'green']\n",
      "red, blue, green\n"
     ]
    }
   ],
   "source": [
    "ldata1 = ['red', 'blue', 'green']\n",
    "print(ldata1)\n",
    "print(', '.join(ldata1))"
   ]
  },
  {
   "cell_type": "code",
   "execution_count": 42,
   "metadata": {},
   "outputs": [
    {
     "data": {
      "text/plain": [
       "'red blue green'"
      ]
     },
     "execution_count": 42,
     "metadata": {},
     "output_type": "execute_result"
    }
   ],
   "source": [
    "' '.join(ldata1)"
   ]
  },
  {
   "cell_type": "code",
   "execution_count": 43,
   "metadata": {},
   "outputs": [
    {
     "data": {
      "text/plain": [
       "'redbluegreen'"
      ]
     },
     "execution_count": 43,
     "metadata": {},
     "output_type": "execute_result"
    }
   ],
   "source": [
    "''.join(ldata1)"
   ]
  },
  {
   "cell_type": "code",
   "execution_count": 45,
   "metadata": {},
   "outputs": [
    {
     "data": {
      "text/plain": [
       "'red-blue-green'"
      ]
     },
     "execution_count": 45,
     "metadata": {},
     "output_type": "execute_result"
    }
   ],
   "source": [
    "'-'.join(ldata1)"
   ]
  },
  {
   "cell_type": "code",
   "execution_count": 51,
   "metadata": {},
   "outputs": [
    {
     "data": {
      "text/plain": [
       "[0, 1, 2, 3, 4, 5, 6, 7, 8, 9]"
      ]
     },
     "execution_count": 51,
     "metadata": {},
     "output_type": "execute_result"
    }
   ],
   "source": [
    "id1 = []\n",
    "for i in range(10):\n",
    "    id1.append(i)\n",
    "id1"
   ]
  },
  {
   "cell_type": "code",
   "execution_count": 52,
   "metadata": {},
   "outputs": [
    {
     "data": {
      "text/plain": [
       "[0, 1, 2, 3, 4, 5, 6, 7, 8, 9]"
      ]
     },
     "execution_count": 52,
     "metadata": {},
     "output_type": "execute_result"
    }
   ],
   "source": [
    "id2 = [i for i in range(10)]\n",
    "id2"
   ]
  },
  {
   "cell_type": "code",
   "execution_count": 54,
   "metadata": {},
   "outputs": [
    {
     "data": {
      "text/plain": [
       "[0, 2, 4, 6, 8]"
      ]
     },
     "execution_count": 54,
     "metadata": {},
     "output_type": "execute_result"
    }
   ],
   "source": [
    "id3 = [i for i in range(10) if i%2 == 0]\n",
    "id3"
   ]
  },
  {
   "cell_type": "code",
   "execution_count": 58,
   "metadata": {},
   "outputs": [
    {
     "data": {
      "text/plain": [
       "[0, 10, 20, 10, 40, 10, 60, 10, 80, 10]"
      ]
     },
     "execution_count": 58,
     "metadata": {},
     "output_type": "execute_result"
    }
   ],
   "source": [
    "id3 = [i if i%2 == 0 else 10 for i in range(10)]\n",
    "id3"
   ]
  },
  {
   "cell_type": "code",
   "execution_count": 63,
   "metadata": {},
   "outputs": [
    {
     "name": "stdout",
     "output_type": "stream",
     "text": [
      "[2, 4, 6, 8, 10, 12, 14, 16, 18, 3, 6, 9, 12, 15, 18, 21, 24, 27, 4, 8, 12, 16, 20, 24, 28, 32, 36, 5, 10, 15, 20, 25, 30, 35, 40, 45, 6, 12, 18, 24, 30, 36, 42, 48, 54, 7, 14, 21, 28, 35, 42, 49, 56, 63, 8, 16, 24, 32, 40, 48, 56, 64, 72, 9, 18, 27, 36, 45, 54, 63, 72, 81]\n"
     ]
    }
   ],
   "source": [
    "id3 = [i * j for i in range(2,10) for j in range(1,10)]\n",
    "print(id3, sep=' ')"
   ]
  },
  {
   "cell_type": "code",
   "execution_count": 67,
   "metadata": {},
   "outputs": [
    {
     "data": {
      "text/plain": [
       "[['THE', 'the', 3],\n",
       " ['QUICK', 'quick', 5],\n",
       " ['BROWN', 'brown', 5],\n",
       " ['FOX', 'fox', 3],\n",
       " ['JUMPS', 'jumps', 5],\n",
       " ['OVER', 'over', 4],\n",
       " ['THE', 'the', 3],\n",
       " ['LAGY', 'lagy', 4],\n",
       " ['DOG', 'dog', 3]]"
      ]
     },
     "execution_count": 67,
     "metadata": {},
     "output_type": "execute_result"
    }
   ],
   "source": [
    "words = 'The quick brown fox jumps over the lagy dog'.split()\n",
    "ld4 = [[w.upper(), w.lower(), len(w)] for w in words] \n",
    "ld4"
   ]
  },
  {
   "cell_type": "code",
   "execution_count": 71,
   "metadata": {},
   "outputs": [
    {
     "name": "stdout",
     "output_type": "stream",
     "text": [
      "0 blue\n",
      "1 green\n",
      "2 yellow\n",
      "3 black\n"
     ]
    }
   ],
   "source": [
    "ldatq1 = ['blue', 'green', 'yellow', 'black']\n",
    "for n, d in enumerate(ldatq1):\n",
    "    print(n, d)"
   ]
  },
  {
   "cell_type": "code",
   "execution_count": 72,
   "metadata": {},
   "outputs": [
    {
     "name": "stdout",
     "output_type": "stream",
     "text": [
      "1 blue\n",
      "2 green\n",
      "3 yellow\n",
      "4 black\n"
     ]
    }
   ],
   "source": [
    "ldatq1 = ['blue', 'green', 'yellow', 'black']\n",
    "for n, d in enumerate(ldatq1, start=1):\n",
    "    print(n, d)"
   ]
  },
  {
   "cell_type": "code",
   "execution_count": 120,
   "metadata": {},
   "outputs": [
    {
     "name": "stdout",
     "output_type": "stream",
     "text": [
      "('kim', 20, 180)\n",
      "('lee', 10, 150)\n",
      "('choi', 50, 170)\n"
     ]
    },
    {
     "data": {
      "text/plain": [
       "[('choi', 50, 170), ('choi', 50, 170), ('choi', 50, 170)]"
      ]
     },
     "execution_count": 120,
     "metadata": {},
     "output_type": "execute_result"
    }
   ],
   "source": [
    "ld1 = ['kim', 'lee', 'choi']\n",
    "ld2 = [20, 10, 50]\n",
    "ld3 = [180, 150, 170]\n",
    "\n",
    "for d in zip(ld1, ld2, ld3):\n",
    "    print(d)\n",
    "    \n",
    "[d for a,b,c in zip(ld1, ld2, ld3)]\n"
   ]
  },
  {
   "cell_type": "code",
   "execution_count": 83,
   "metadata": {},
   "outputs": [
    {
     "data": {
      "text/plain": [
       "{0: 'The',\n",
       " 1: 'quick',\n",
       " 2: 'brown',\n",
       " 3: 'fox',\n",
       " 4: 'jumps',\n",
       " 5: 'over',\n",
       " 6: 'the',\n",
       " 7: 'lagy',\n",
       " 8: 'dog'}"
      ]
     },
     "execution_count": 83,
     "metadata": {},
     "output_type": "execute_result"
    }
   ],
   "source": [
    "words = 'The quick brown fox jumps over the lagy dog'.split()\n",
    "data = {k: v for k, v in enumerate(words)}\n",
    "data"
   ]
  },
  {
   "cell_type": "code",
   "execution_count": null,
   "metadata": {},
   "outputs": [],
   "source": []
  },
  {
   "cell_type": "code",
   "execution_count": 84,
   "metadata": {},
   "outputs": [
    {
     "data": {
      "text/plain": [
       "30"
      ]
     },
     "execution_count": 84,
     "metadata": {},
     "output_type": "execute_result"
    }
   ],
   "source": [
    "def add (x, y):\n",
    "    return x + y\n",
    "\n",
    "add(10,20)"
   ]
  },
  {
   "cell_type": "code",
   "execution_count": 87,
   "metadata": {},
   "outputs": [
    {
     "data": {
      "text/plain": [
       "40"
      ]
     },
     "execution_count": 87,
     "metadata": {},
     "output_type": "execute_result"
    }
   ],
   "source": [
    "add2 = lambda x, y : x + y\n",
    "add2(10,30)"
   ]
  },
  {
   "cell_type": "code",
   "execution_count": 94,
   "metadata": {},
   "outputs": [],
   "source": [
    "def calc(fv, a, b):\n",
    "    print(f'a {a} b {b} result {fv(a,b)}')"
   ]
  },
  {
   "cell_type": "code",
   "execution_count": 95,
   "metadata": {},
   "outputs": [
    {
     "name": "stdout",
     "output_type": "stream",
     "text": [
      "a 10 b 20 result 30\n"
     ]
    }
   ],
   "source": [
    "calc(add, 10, 20)"
   ]
  },
  {
   "cell_type": "code",
   "execution_count": 96,
   "metadata": {},
   "outputs": [
    {
     "name": "stdout",
     "output_type": "stream",
     "text": [
      "a 10 b 20 result 30\n"
     ]
    }
   ],
   "source": [
    "calc(lambda a, b : a + b, 10, 20)"
   ]
  },
  {
   "cell_type": "code",
   "execution_count": 97,
   "metadata": {},
   "outputs": [
    {
     "data": {
      "text/plain": [
       "[1, 1, 2, 3, 4, 4, 5, 5]"
      ]
     },
     "execution_count": 97,
     "metadata": {},
     "output_type": "execute_result"
    }
   ],
   "source": [
    "ldata1 = [2, 4,5,1,1,3,5,4]\n",
    "ldata1.sort()\n",
    "ldata1"
   ]
  },
  {
   "cell_type": "code",
   "execution_count": 104,
   "metadata": {},
   "outputs": [
    {
     "name": "stdout",
     "output_type": "stream",
     "text": [
      "[('kim', 80), ('lee', 50), ('choi', 30), ('oh', 40)]\n",
      "\n",
      "[('choi', 30), ('oh', 40), ('lee', 50), ('kim', 80)]\n"
     ]
    }
   ],
   "source": [
    "ldata2 = [('kim', 80), ('lee', 50), ('choi', 30), ('oh', 40)]\n",
    "print(ldata2, end='\\n\\n')\n",
    "\n",
    "def sfunc(s):\n",
    "    return s[1]\n",
    "\n",
    "#ldata2.sort(key=sfunc)\n",
    "#print(ldata2)\n",
    "\n",
    "ldata2.sort(key=lambda x : x[1])\n",
    "print(ldata2)"
   ]
  },
  {
   "cell_type": "code",
   "execution_count": 109,
   "metadata": {},
   "outputs": [
    {
     "name": "stdout",
     "output_type": "stream",
     "text": [
      "[1, 4, 9, 16, 25]\n",
      "[1, 4, 9, 16, 25]\n"
     ]
    }
   ],
   "source": [
    "def mf(x):\n",
    "    return x ** 2\n",
    "\n",
    "ld1 = [1,2,3,4,5]\n",
    "ld2 = list(map(mf, ld1))\n",
    "print(f'{ld2}')\n",
    "print(list(map(lambda x: x**2, ld1)))"
   ]
  },
  {
   "cell_type": "code",
   "execution_count": 110,
   "metadata": {},
   "outputs": [
    {
     "name": "stdout",
     "output_type": "stream",
     "text": [
      "[32, 42, 34]\n"
     ]
    }
   ],
   "source": [
    "ldata = [32.12, 42.23, 34.132]\n",
    "print(list(map(int, ldata)))"
   ]
  },
  {
   "cell_type": "code",
   "execution_count": 135,
   "metadata": {},
   "outputs": [],
   "source": [
    "class Person:\n",
    "    def __init__(self, name, age):\n",
    "        self.name = name\n",
    "        self.age = age\n",
    "        \n",
    "    def print_info(self):\n",
    "        print(f'name: {self.name}, age: {self.age}')\n",
    "        \n",
    "    def __str__(self):\n",
    "        return f'{self.name}, {self.age}'"
   ]
  },
  {
   "cell_type": "code",
   "execution_count": 136,
   "metadata": {},
   "outputs": [
    {
     "data": {
      "text/plain": [
       "<__main__.Person at 0x7fd991806d50>"
      ]
     },
     "execution_count": 136,
     "metadata": {},
     "output_type": "execute_result"
    }
   ],
   "source": [
    "obj = Person('kim', 23)\n",
    "obj"
   ]
  },
  {
   "cell_type": "code",
   "execution_count": 137,
   "metadata": {},
   "outputs": [
    {
     "name": "stdout",
     "output_type": "stream",
     "text": [
      "name: kim, age: 23\n"
     ]
    }
   ],
   "source": [
    "obj.print_info()"
   ]
  },
  {
   "cell_type": "code",
   "execution_count": 138,
   "metadata": {},
   "outputs": [
    {
     "name": "stdout",
     "output_type": "stream",
     "text": [
      "kim, 23\n"
     ]
    }
   ],
   "source": [
    "print(obj)"
   ]
  },
  {
   "cell_type": "code",
   "execution_count": 152,
   "metadata": {},
   "outputs": [
    {
     "name": "stdout",
     "output_type": "stream",
     "text": [
      "['first']\n",
      "['first', 'second']\n"
     ]
    }
   ],
   "source": [
    "class InstanceC:\n",
    "    text_list = []\n",
    "    \n",
    "    def add_item(self, text):\n",
    "        self. text_list.append(text)\n",
    "        \n",
    "    def print_list(self):\n",
    "        print(self.text_list)\n",
    "\n",
    "one = InstanceC()\n",
    "one.add_item('first')\n",
    "one.print_list()\n",
    "\n",
    "two = InstanceC()\n",
    "two.add_item('second')\n",
    "two.print_list()"
   ]
  },
  {
   "cell_type": "code",
   "execution_count": 156,
   "metadata": {},
   "outputs": [
    {
     "name": "stdout",
     "output_type": "stream",
     "text": [
      "['first']\n",
      "['second']\n"
     ]
    }
   ],
   "source": [
    "class InstanceC:\n",
    "    #text_list = []\n",
    "    \n",
    "    def __init__(self):\n",
    "        self.text_list = []\n",
    "    \n",
    "    def add_item(self, text):\n",
    "        self. text_list.append(text)\n",
    "        \n",
    "    def print_list(self):\n",
    "        print(self.text_list)\n",
    "\n",
    "one = InstanceC()\n",
    "one.add_item('first')\n",
    "one.print_list()\n",
    "\n",
    "two = InstanceC()\n",
    "two.add_item('second')\n",
    "two.print_list()"
   ]
  },
  {
   "cell_type": "code",
   "execution_count": 157,
   "metadata": {},
   "outputs": [
    {
     "name": "stdout",
     "output_type": "stream",
     "text": [
      "010-8406-4444 에게 전화를 겁니다.\n",
      "010-158-124 에게 test 메세지를 보냅니다.\n"
     ]
    }
   ],
   "source": [
    "class Phone:\n",
    "    \n",
    "    def call(self, p_number):\n",
    "        print('{} 에게 전화를 겁니다.'.format(p_number))\n",
    "    \n",
    "    def send_message(self, p_number, msg):\n",
    "        print(\"{} 에게 {} 메세지를 보냅니다.\".format(p_number, msg))\n",
    "\n",
    "p = Phone()\n",
    "p.call('010-8406-4444')\n",
    "p.send_message('010-158-124', 'test')"
   ]
  },
  {
   "cell_type": "code",
   "execution_count": 158,
   "metadata": {},
   "outputs": [
    {
     "name": "stdout",
     "output_type": "stream",
     "text": [
      "1254-1257-1257 에게 전화를 겁니다.\n",
      "010-158-124 에게 test 메세지를 보냅니다.\n",
      "abcd 를 재생합니다.\n",
      "사진을 찍습니다.\n"
     ]
    }
   ],
   "source": [
    "class sPhone(Phone):\n",
    "    def playMusic(self, title):\n",
    "        print('{} 를 재생합니다.'.format(title))\n",
    "    def takePicture(self):\n",
    "        print('사진을 찍습니다.')\n",
    "        \n",
    "sp = sPhone()\n",
    "sp.call('1254-1257-1257')\n",
    "sp.send_message('010-158-124', 'test')\n",
    "sp.playMusic('abcd')\n",
    "sp.takePicture()"
   ]
  },
  {
   "cell_type": "code",
   "execution_count": null,
   "metadata": {},
   "outputs": [],
   "source": []
  },
  {
   "cell_type": "code",
   "execution_count": 159,
   "metadata": {},
   "outputs": [],
   "source": [
    "file = open(\"test.txt\", 'w')\n",
    "file.write(\"hi hello!!!\")\n",
    "file.close()"
   ]
  },
  {
   "cell_type": "code",
   "execution_count": 160,
   "metadata": {},
   "outputs": [
    {
     "name": "stdout",
     "output_type": "stream",
     "text": [
      "read string:  hi hello!!!\n"
     ]
    }
   ],
   "source": [
    "file2 = open('test.txt', 'r')\n",
    "rstr = file2.read()\n",
    "print('read string: ', rstr)\n",
    "file2.close()"
   ]
  },
  {
   "cell_type": "code",
   "execution_count": null,
   "metadata": {},
   "outputs": [],
   "source": []
  },
  {
   "cell_type": "code",
   "execution_count": 161,
   "metadata": {},
   "outputs": [
    {
     "data": {
      "text/plain": [
       "<range_iterator at 0x7fd99248a0f0>"
      ]
     },
     "execution_count": 161,
     "metadata": {},
     "output_type": "execute_result"
    }
   ],
   "source": [
    "iter1 = range(3).__iter__()\n",
    "iter1"
   ]
  },
  {
   "cell_type": "code",
   "execution_count": 163,
   "metadata": {},
   "outputs": [
    {
     "data": {
      "text/plain": [
       "0"
      ]
     },
     "execution_count": 163,
     "metadata": {},
     "output_type": "execute_result"
    }
   ],
   "source": [
    "iter1.__next__()"
   ]
  },
  {
   "cell_type": "code",
   "execution_count": 164,
   "metadata": {},
   "outputs": [
    {
     "data": {
      "text/plain": [
       "1"
      ]
     },
     "execution_count": 164,
     "metadata": {},
     "output_type": "execute_result"
    }
   ],
   "source": [
    "iter1.__next__()"
   ]
  },
  {
   "cell_type": "code",
   "execution_count": 165,
   "metadata": {},
   "outputs": [
    {
     "data": {
      "text/plain": [
       "2"
      ]
     },
     "execution_count": 165,
     "metadata": {},
     "output_type": "execute_result"
    }
   ],
   "source": [
    "iter1.__next__()"
   ]
  },
  {
   "cell_type": "code",
   "execution_count": 166,
   "metadata": {},
   "outputs": [
    {
     "ename": "StopIteration",
     "evalue": "",
     "output_type": "error",
     "traceback": [
      "\u001b[0;31m---------------------------------------------------------------------------\u001b[0m",
      "\u001b[0;31mStopIteration\u001b[0m                             Traceback (most recent call last)",
      "\u001b[0;32m<ipython-input-166-24fe7087e6db>\u001b[0m in \u001b[0;36m<module>\u001b[0;34m\u001b[0m\n\u001b[0;32m----> 1\u001b[0;31m \u001b[0miter1\u001b[0m\u001b[0;34m.\u001b[0m\u001b[0m__next__\u001b[0m\u001b[0;34m(\u001b[0m\u001b[0;34m)\u001b[0m\u001b[0;34m\u001b[0m\u001b[0;34m\u001b[0m\u001b[0m\n\u001b[0m",
      "\u001b[0;31mStopIteration\u001b[0m: "
     ]
    }
   ],
   "source": [
    "iter1.__next__()"
   ]
  },
  {
   "cell_type": "code",
   "execution_count": 167,
   "metadata": {},
   "outputs": [
    {
     "data": {
      "text/plain": [
       "<list_iterator at 0x7fd991a65590>"
      ]
     },
     "execution_count": 167,
     "metadata": {},
     "output_type": "execute_result"
    }
   ],
   "source": [
    "ldata = [10,20,30]\n",
    "iter2 = ldata.__iter__()\n",
    "iter2"
   ]
  },
  {
   "cell_type": "code",
   "execution_count": 169,
   "metadata": {},
   "outputs": [
    {
     "data": {
      "text/plain": [
       "10"
      ]
     },
     "execution_count": 169,
     "metadata": {},
     "output_type": "execute_result"
    }
   ],
   "source": [
    "iter2.__next__()"
   ]
  },
  {
   "cell_type": "code",
   "execution_count": 170,
   "metadata": {},
   "outputs": [
    {
     "data": {
      "text/plain": [
       "20"
      ]
     },
     "execution_count": 170,
     "metadata": {},
     "output_type": "execute_result"
    }
   ],
   "source": [
    "iter2.__next__()"
   ]
  },
  {
   "cell_type": "code",
   "execution_count": 171,
   "metadata": {},
   "outputs": [
    {
     "data": {
      "text/plain": [
       "30"
      ]
     },
     "execution_count": 171,
     "metadata": {},
     "output_type": "execute_result"
    }
   ],
   "source": [
    "iter2.__next__()"
   ]
  },
  {
   "cell_type": "code",
   "execution_count": 172,
   "metadata": {},
   "outputs": [
    {
     "ename": "StopIteration",
     "evalue": "",
     "output_type": "error",
     "traceback": [
      "\u001b[0;31m---------------------------------------------------------------------------\u001b[0m",
      "\u001b[0;31mStopIteration\u001b[0m                             Traceback (most recent call last)",
      "\u001b[0;32m<ipython-input-172-79c76cd27079>\u001b[0m in \u001b[0;36m<module>\u001b[0;34m\u001b[0m\n\u001b[0;32m----> 1\u001b[0;31m \u001b[0miter2\u001b[0m\u001b[0;34m.\u001b[0m\u001b[0m__next__\u001b[0m\u001b[0;34m(\u001b[0m\u001b[0;34m)\u001b[0m\u001b[0;34m\u001b[0m\u001b[0;34m\u001b[0m\u001b[0m\n\u001b[0m",
      "\u001b[0;31mStopIteration\u001b[0m: "
     ]
    }
   ],
   "source": [
    "iter2.__next__()"
   ]
  },
  {
   "cell_type": "code",
   "execution_count": 177,
   "metadata": {},
   "outputs": [],
   "source": [
    "ddata1 = {'a': 1, 'b': 2}\n",
    "iter1 = ddata1.__iter__()"
   ]
  },
  {
   "cell_type": "code",
   "execution_count": 178,
   "metadata": {},
   "outputs": [
    {
     "data": {
      "text/plain": [
       "'a'"
      ]
     },
     "execution_count": 178,
     "metadata": {},
     "output_type": "execute_result"
    }
   ],
   "source": [
    "iter1.__next__()"
   ]
  },
  {
   "cell_type": "code",
   "execution_count": 181,
   "metadata": {},
   "outputs": [
    {
     "ename": "StopIteration",
     "evalue": "",
     "output_type": "error",
     "traceback": [
      "\u001b[0;31m---------------------------------------------------------------------------\u001b[0m",
      "\u001b[0;31mStopIteration\u001b[0m                             Traceback (most recent call last)",
      "\u001b[0;32m<ipython-input-181-24fe7087e6db>\u001b[0m in \u001b[0;36m<module>\u001b[0;34m\u001b[0m\n\u001b[0;32m----> 1\u001b[0;31m \u001b[0miter1\u001b[0m\u001b[0;34m.\u001b[0m\u001b[0m__next__\u001b[0m\u001b[0;34m(\u001b[0m\u001b[0;34m)\u001b[0m\u001b[0;34m\u001b[0m\u001b[0;34m\u001b[0m\u001b[0m\n\u001b[0m",
      "\u001b[0;31mStopIteration\u001b[0m: "
     ]
    }
   ],
   "source": [
    "iter1.__next__()"
   ]
  },
  {
   "cell_type": "code",
   "execution_count": 182,
   "metadata": {},
   "outputs": [
    {
     "ename": "StopIteration",
     "evalue": "",
     "output_type": "error",
     "traceback": [
      "\u001b[0;31m---------------------------------------------------------------------------\u001b[0m",
      "\u001b[0;31mStopIteration\u001b[0m                             Traceback (most recent call last)",
      "\u001b[0;32m<ipython-input-182-24fe7087e6db>\u001b[0m in \u001b[0;36m<module>\u001b[0;34m\u001b[0m\n\u001b[0;32m----> 1\u001b[0;31m \u001b[0miter1\u001b[0m\u001b[0;34m.\u001b[0m\u001b[0m__next__\u001b[0m\u001b[0;34m(\u001b[0m\u001b[0;34m)\u001b[0m\u001b[0;34m\u001b[0m\u001b[0;34m\u001b[0m\u001b[0m\n\u001b[0m",
      "\u001b[0;31mStopIteration\u001b[0m: "
     ]
    }
   ],
   "source": [
    "iter1.__next__()"
   ]
  },
  {
   "cell_type": "code",
   "execution_count": null,
   "metadata": {},
   "outputs": [],
   "source": []
  },
  {
   "cell_type": "code",
   "execution_count": 187,
   "metadata": {},
   "outputs": [
    {
     "name": "stdout",
     "output_type": "stream",
     "text": [
      "0\n",
      "1\n",
      "2\n",
      "3\n",
      "end\n"
     ]
    }
   ],
   "source": [
    "class CRange:\n",
    "    def __init__(self, start, end):\n",
    "        self.current = start\n",
    "        self.end = end\n",
    "        \n",
    "    def __iter__(self):\n",
    "        return self\n",
    "    \n",
    "    def __next__(self):\n",
    "        if self.current < self.end:\n",
    "            rvalue = self.current\n",
    "            self.current += 1\n",
    "            return rvalue\n",
    "        else:\n",
    "            raise StopIteration()\n",
    "            \n",
    "try:\n",
    "    for i in CRange(0, 4):\n",
    "        print(i)\n",
    "except StopIteration:\n",
    "    print(\"ddddddd\")\n",
    "finally:\n",
    "    print('end')"
   ]
  },
  {
   "cell_type": "code",
   "execution_count": 191,
   "metadata": {},
   "outputs": [
    {
     "name": "stdout",
     "output_type": "stream",
     "text": [
      "George Washington\n",
      "John Adams\n",
      "Thomas Jefferson\n"
     ]
    }
   ],
   "source": [
    "infile1 = open('FirstPresidents.txt', 'r')\n",
    "\n",
    "for line in infile1:\n",
    "    print(line.rstrip())"
   ]
  },
  {
   "cell_type": "code",
   "execution_count": 195,
   "metadata": {},
   "outputs": [
    {
     "name": "stdout",
     "output_type": "stream",
     "text": [
      "['George Washington', 'John Adams', 'Thomas Jefferson']\n"
     ]
    }
   ],
   "source": [
    "infile1 = open('FirstPresidents.txt', 'r')\n",
    "\n",
    "ldata1 = [line.rstrip() for line in infile1]\n",
    "print(ldata1)"
   ]
  },
  {
   "cell_type": "code",
   "execution_count": null,
   "metadata": {},
   "outputs": [],
   "source": []
  },
  {
   "cell_type": "code",
   "execution_count": 201,
   "metadata": {},
   "outputs": [
    {
     "ename": "TypeError",
     "evalue": "write() argument must be str, not list",
     "output_type": "error",
     "traceback": [
      "\u001b[0;31m---------------------------------------------------------------------------\u001b[0m",
      "\u001b[0;31mTypeError\u001b[0m                                 Traceback (most recent call last)",
      "\u001b[0;32m<ipython-input-201-85ad3b53ccf6>\u001b[0m in \u001b[0;36m<module>\u001b[0;34m\u001b[0m\n\u001b[1;32m      4\u001b[0m \u001b[0mldata\u001b[0m \u001b[0;34m=\u001b[0m \u001b[0;34m[\u001b[0m \u001b[0;34m[\u001b[0m\u001b[0mline\u001b[0m\u001b[0;34m,\u001b[0m \u001b[0mlen\u001b[0m\u001b[0;34m(\u001b[0m\u001b[0mline\u001b[0m\u001b[0;34m)\u001b[0m\u001b[0;34m]\u001b[0m \u001b[0;32mfor\u001b[0m \u001b[0mline\u001b[0m \u001b[0;32min\u001b[0m \u001b[0minfile1\u001b[0m\u001b[0;34m]\u001b[0m\u001b[0;34m\u001b[0m\u001b[0;34m\u001b[0m\u001b[0m\n\u001b[1;32m      5\u001b[0m \u001b[0mldata\u001b[0m\u001b[0;34m.\u001b[0m\u001b[0msort\u001b[0m\u001b[0;34m(\u001b[0m\u001b[0;34m)\u001b[0m\u001b[0;34m\u001b[0m\u001b[0;34m\u001b[0m\u001b[0m\n\u001b[0;32m----> 6\u001b[0;31m \u001b[0moutfile1\u001b[0m\u001b[0;34m.\u001b[0m\u001b[0mwritelines\u001b[0m\u001b[0;34m(\u001b[0m\u001b[0mldata\u001b[0m\u001b[0;34m)\u001b[0m\u001b[0;34m\u001b[0m\u001b[0;34m\u001b[0m\u001b[0m\n\u001b[0m\u001b[1;32m      7\u001b[0m \u001b[0minfile1\u001b[0m\u001b[0;34m.\u001b[0m\u001b[0mclose\u001b[0m\u001b[0;34m(\u001b[0m\u001b[0;34m)\u001b[0m\u001b[0;34m\u001b[0m\u001b[0;34m\u001b[0m\u001b[0m\n\u001b[1;32m      8\u001b[0m \u001b[0moutfile1\u001b[0m\u001b[0;34m.\u001b[0m\u001b[0mclose\u001b[0m\u001b[0;34m(\u001b[0m\u001b[0;34m)\u001b[0m\u001b[0;34m\u001b[0m\u001b[0;34m\u001b[0m\u001b[0m\n",
      "\u001b[0;31mTypeError\u001b[0m: write() argument must be str, not list"
     ]
    }
   ],
   "source": [
    "infile1 = open('States.txt', 'r')\n",
    "outfile1 = open('StateAlpha.txt', 'w')\n",
    "\n",
    "ldata = [line for line in infile1]\n",
    "ldata.sort()\n",
    "outfile1.write(lines(ldata))\n",
    "infile1.close()\n",
    "outfile1.close()"
   ]
  },
  {
   "cell_type": "code",
   "execution_count": 209,
   "metadata": {},
   "outputs": [],
   "source": [
    "infile1 = open('States.txt', 'r')\n",
    "outfile1 = open('StateSort.txt', 'w')\n",
    "\n",
    "ldata = [ line for line in infile1]\n",
    "#ldata.sort(key=lambda x : len(x), reverse=True)\n",
    "ldata.sort(key=len, reverse=True)\n",
    "\n",
    "outfile1.writelines(ldata)\n",
    "infile1.close()\n",
    "outfile1.close()"
   ]
  },
  {
   "cell_type": "code",
   "execution_count": null,
   "metadata": {},
   "outputs": [],
   "source": []
  },
  {
   "cell_type": "code",
   "execution_count": 215,
   "metadata": {},
   "outputs": [
    {
     "name": "stdout",
     "output_type": "stream",
     "text": [
      "John Adams\n",
      "\n",
      "Thomas Jefferson\n",
      "\n",
      "Martin Van Buren\n",
      "\n",
      "John Tyler\n",
      "\n",
      "Millard Fillmore\n",
      "\n",
      "Andrew Johnson\n",
      "\n",
      "Chester Arthur\n",
      "\n",
      "Theodore Roosevelt\n",
      "\n",
      "Calvin Coolidge\n",
      "\n",
      "Harry Truman\n",
      "\n",
      "Richard Nixon\n",
      "\n",
      "Lyndon Johnson\n",
      "\n",
      "Gerald Ford\n",
      "\n",
      "George H. W. Bush\n",
      "\n"
     ]
    }
   ],
   "source": [
    "infile1 = open('USPres.txt', 'r')\n",
    "infile2 = open('VPres.txt', 'r')\n",
    "outfile1 = open('Both.txt', 'w')\n",
    "\n",
    "vList1 = [line for line in infile1]\n",
    "v#List2 = [line for line in infile2]\n",
    "\n",
    "for p in infile2:\n",
    "    if p in vList1:\n",
    "        print(p)\n",
    "        outfile1.write(p)\n",
    "        \n",
    "infile1.close()\n",
    "infile2.close()\n",
    "\n",
    "outfile1.close()"
   ]
  },
  {
   "cell_type": "code",
   "execution_count": 225,
   "metadata": {},
   "outputs": [
    {
     "name": "stdout",
     "output_type": "stream",
     "text": [
      "['Andrew Johnson\\n', 'Calvin Coolidge\\n', 'Chester Arthur\\n', 'George H. W. Bush\\n', 'Gerald Ford\\n', 'Harry Truman\\n', 'John Adams\\n', 'John Tyler\\n', 'Lyndon Johnson\\n', 'Martin Van Buren\\n', 'Millard Fillmore\\n', 'Richard Nixon\\n', 'Theodore Roosevelt\\n', 'Thomas Jefferson\\n']\n"
     ]
    }
   ],
   "source": [
    "infile1 = open('USPres.txt', 'r')\n",
    "infile2 = open('VPres.txt', 'r')\n",
    "outfile1 = open('Both2.txt', 'w')\n",
    "\n",
    "s1 = {line for line in infile1}\n",
    "s2 = {line for line in infile2}\n",
    "\n",
    "outdata = s1.intersection(s2)\n",
    "ldata = sorted(outdata)\n",
    "print(ldata)\n",
    "\n",
    "outfile1.writelines(ldata)\n",
    "infile1.close()\n",
    "infile2.close()\n",
    "\n",
    "outfile1.close()"
   ]
  },
  {
   "cell_type": "code",
   "execution_count": 226,
   "metadata": {},
   "outputs": [
    {
     "name": "stdout",
     "output_type": "stream",
     "text": [
      "hi hello!!!\n"
     ]
    }
   ],
   "source": [
    "with open('test.txt', 'r') as file:\n",
    "    rstr = file.read()\n",
    "    print(rstr)"
   ]
  },
  {
   "cell_type": "code",
   "execution_count": 235,
   "metadata": {},
   "outputs": [],
   "source": [
    "import os\n",
    "\n",
    "if not os.path.isdir('log'):\n",
    "    os.mkdir('log')\n",
    "    \n",
    "if os.path.exists('log/count_log.txt'):\n",
    "    f= open('log/count_log.txt', 'w', encoding='utf8')\n",
    "    f.write('기록이 시작됩니다. \\n\\n')\n",
    "    f.close()\n",
    "\n",
    "import random, datetime\n",
    "with open ('log/count_log.txt', 'a', encoding='utf8') as f:\n",
    "    for i in range(1,10):\n",
    "        timestr = str(datetime.datetime.now())\n",
    "        rvalue = random.random() * 1000000\n",
    "        log_str = timestr + str(rvalue) + '값 생성\\n'\n",
    "        f.write(log_str)\n",
    "        \n"
   ]
  },
  {
   "cell_type": "code",
   "execution_count": null,
   "metadata": {},
   "outputs": [],
   "source": []
  },
  {
   "cell_type": "code",
   "execution_count": 237,
   "metadata": {},
   "outputs": [
    {
     "name": "stdout",
     "output_type": "stream",
     "text": [
      "[1, 2, 3.4, 5] <class 'list'>\n"
     ]
    },
    {
     "data": {
      "text/plain": [
       "array([1. , 2. , 3.4, 5. ])"
      ]
     },
     "execution_count": 237,
     "metadata": {},
     "output_type": "execute_result"
    }
   ],
   "source": [
    "import numpy as np\n",
    "\n",
    "data1 = [1,2,3.4, 5]\n",
    "print(data1, type(data1))\n",
    "\n",
    "arr1 = np.array(data1)\n",
    "arr1\n",
    "\n"
   ]
  },
  {
   "cell_type": "code",
   "execution_count": 238,
   "metadata": {},
   "outputs": [
    {
     "data": {
      "text/plain": [
       "array([1, 2, 3, 5], dtype=int32)"
      ]
     },
     "execution_count": 238,
     "metadata": {},
     "output_type": "execute_result"
    }
   ],
   "source": [
    "np.array(data1, dtype=np.int32)"
   ]
  },
  {
   "cell_type": "code",
   "execution_count": 239,
   "metadata": {},
   "outputs": [
    {
     "data": {
      "text/plain": [
       "[[1, 2, 3, 4], [5, 6, 7, 8]]"
      ]
     },
     "execution_count": 239,
     "metadata": {},
     "output_type": "execute_result"
    }
   ],
   "source": [
    "data2 = [[1,2,3,4],[5,6,7,8]]\n",
    "data2"
   ]
  },
  {
   "cell_type": "code",
   "execution_count": 240,
   "metadata": {},
   "outputs": [
    {
     "data": {
      "text/plain": [
       "array([[1, 2, 3, 4],\n",
       "       [5, 6, 7, 8]])"
      ]
     },
     "execution_count": 240,
     "metadata": {},
     "output_type": "execute_result"
    }
   ],
   "source": [
    "arr2 = np.array(data2)\n",
    "arr2"
   ]
  },
  {
   "cell_type": "code",
   "execution_count": 243,
   "metadata": {},
   "outputs": [
    {
     "data": {
      "text/plain": [
       "((2, 4), dtype('int64'))"
      ]
     },
     "execution_count": 243,
     "metadata": {},
     "output_type": "execute_result"
    }
   ],
   "source": [
    "arr2.shape, arr2.dtype"
   ]
  },
  {
   "cell_type": "code",
   "execution_count": 249,
   "metadata": {},
   "outputs": [
    {
     "data": {
      "text/plain": [
       "((3, 4), dtype('int64'))"
      ]
     },
     "execution_count": 249,
     "metadata": {},
     "output_type": "execute_result"
    }
   ],
   "source": [
    "data3 = [[1,2,3,4],[1,2,3,4],[1,2,3,4]]\n",
    "arr3 = np.array(data3)\n",
    "arr3.shape, arr3.dtype"
   ]
  },
  {
   "cell_type": "code",
   "execution_count": 252,
   "metadata": {},
   "outputs": [
    {
     "data": {
      "text/plain": [
       "(array([0, 1, 2, 3, 4, 5, 6, 7, 8, 9]), numpy.ndarray)"
      ]
     },
     "execution_count": 252,
     "metadata": {},
     "output_type": "execute_result"
    }
   ],
   "source": [
    "arr4 = np.arange(0,10,1)\n",
    "arr4, type(arr4)"
   ]
  },
  {
   "cell_type": "code",
   "execution_count": 254,
   "metadata": {},
   "outputs": [
    {
     "data": {
      "text/plain": [
       "array([-3.        , -2.33333333, -1.66666667, -1.        , -0.33333333,\n",
       "        0.33333333,  1.        ,  1.66666667,  2.33333333,  3.        ])"
      ]
     },
     "execution_count": 254,
     "metadata": {},
     "output_type": "execute_result"
    }
   ],
   "source": [
    "arr5=np.linspace(-3,3,10)\n",
    "arr5"
   ]
  },
  {
   "cell_type": "code",
   "execution_count": 256,
   "metadata": {},
   "outputs": [
    {
     "data": {
      "text/plain": [
       "array([[0., 0., 0., 0.],\n",
       "       [0., 0., 0., 0.],\n",
       "       [0., 0., 0., 0.]])"
      ]
     },
     "execution_count": 256,
     "metadata": {},
     "output_type": "execute_result"
    }
   ],
   "source": [
    "arr6 = np.zeros([3,4])\n",
    "arr6"
   ]
  },
  {
   "cell_type": "code",
   "execution_count": 257,
   "metadata": {},
   "outputs": [
    {
     "data": {
      "text/plain": [
       "array([[1., 1., 1., 1.],\n",
       "       [1., 1., 1., 1.],\n",
       "       [1., 1., 1., 1.]])"
      ]
     },
     "execution_count": 257,
     "metadata": {},
     "output_type": "execute_result"
    }
   ],
   "source": [
    "arr7 = np.ones([3,4])\n",
    "arr7"
   ]
  },
  {
   "cell_type": "code",
   "execution_count": 258,
   "metadata": {},
   "outputs": [
    {
     "data": {
      "text/plain": [
       "array([[1., 1., 1., 1.],\n",
       "       [1., 1., 1., 1.],\n",
       "       [1., 1., 1., 1.]])"
      ]
     },
     "execution_count": 258,
     "metadata": {},
     "output_type": "execute_result"
    }
   ],
   "source": [
    "arr7 = np.empty([3,4])\n",
    "arr7"
   ]
  },
  {
   "cell_type": "code",
   "execution_count": 260,
   "metadata": {},
   "outputs": [
    {
     "data": {
      "text/plain": [
       "array([[1, 2, 3],\n",
       "       [4, 5, 6]])"
      ]
     },
     "execution_count": 260,
     "metadata": {},
     "output_type": "execute_result"
    }
   ],
   "source": [
    "arr1 = np.array([[1,2,3],[4,5,6]])\n",
    "arr2 = np.array([[1,2,3],[4,5,6]])\n",
    "arr1"
   ]
  },
  {
   "cell_type": "code",
   "execution_count": 261,
   "metadata": {},
   "outputs": [
    {
     "data": {
      "text/plain": [
       "array([[1, 2, 3],\n",
       "       [4, 5, 6]])"
      ]
     },
     "execution_count": 261,
     "metadata": {},
     "output_type": "execute_result"
    }
   ],
   "source": [
    "arr2"
   ]
  },
  {
   "cell_type": "code",
   "execution_count": 262,
   "metadata": {},
   "outputs": [
    {
     "data": {
      "text/plain": [
       "array([[ 2,  4,  6],\n",
       "       [ 8, 10, 12]])"
      ]
     },
     "execution_count": 262,
     "metadata": {},
     "output_type": "execute_result"
    }
   ],
   "source": [
    "arr1 + arr2"
   ]
  },
  {
   "cell_type": "code",
   "execution_count": 263,
   "metadata": {},
   "outputs": [
    {
     "data": {
      "text/plain": [
       "array([[ 1,  4,  9],\n",
       "       [16, 25, 36]])"
      ]
     },
     "execution_count": 263,
     "metadata": {},
     "output_type": "execute_result"
    }
   ],
   "source": [
    "arr1 * arr2"
   ]
  },
  {
   "cell_type": "code",
   "execution_count": 264,
   "metadata": {},
   "outputs": [
    {
     "data": {
      "text/plain": [
       "array([[ 3,  6,  9],\n",
       "       [12, 15, 18]])"
      ]
     },
     "execution_count": 264,
     "metadata": {},
     "output_type": "execute_result"
    }
   ],
   "source": [
    "arr1 * 3"
   ]
  },
  {
   "cell_type": "code",
   "execution_count": 265,
   "metadata": {},
   "outputs": [
    {
     "data": {
      "text/plain": [
       "array([[1.        , 0.5       , 0.33333333],\n",
       "       [0.25      , 0.2       , 0.16666667]])"
      ]
     },
     "execution_count": 265,
     "metadata": {},
     "output_type": "execute_result"
    }
   ],
   "source": [
    "1/arr1"
   ]
  },
  {
   "cell_type": "code",
   "execution_count": 267,
   "metadata": {},
   "outputs": [
    {
     "data": {
      "text/plain": [
       "array([[False, False, False],\n",
       "       [False, False, False]])"
      ]
     },
     "execution_count": 267,
     "metadata": {},
     "output_type": "execute_result"
    }
   ],
   "source": [
    "arr1 > arr2"
   ]
  },
  {
   "cell_type": "code",
   "execution_count": 268,
   "metadata": {},
   "outputs": [
    {
     "data": {
      "text/plain": [
       "array([0, 1, 2, 3, 4, 5, 6, 7, 8, 9])"
      ]
     },
     "execution_count": 268,
     "metadata": {},
     "output_type": "execute_result"
    }
   ],
   "source": [
    "arr3 = np.arange(10)\n",
    "arr3"
   ]
  },
  {
   "cell_type": "code",
   "execution_count": 270,
   "metadata": {},
   "outputs": [
    {
     "data": {
      "text/plain": [
       "(5, array([2, 3, 4, 5, 6]))"
      ]
     },
     "execution_count": 270,
     "metadata": {},
     "output_type": "execute_result"
    }
   ],
   "source": [
    "arr3[5], arr3[2:7]"
   ]
  },
  {
   "cell_type": "code",
   "execution_count": 273,
   "metadata": {},
   "outputs": [
    {
     "data": {
      "text/plain": [
       "array([10,  1,  2,  3,  4,  5,  6,  7,  8,  9])"
      ]
     },
     "execution_count": 273,
     "metadata": {},
     "output_type": "execute_result"
    }
   ],
   "source": [
    "arr3[0] = 10\n",
    "arr3"
   ]
  },
  {
   "cell_type": "code",
   "execution_count": 280,
   "metadata": {},
   "outputs": [
    {
     "data": {
      "text/plain": [
       "array([[ 1,  2,  3,  4],\n",
       "       [ 4,  5,  6,  7],\n",
       "       [ 7,  8,  9, 10]])"
      ]
     },
     "execution_count": 280,
     "metadata": {},
     "output_type": "execute_result"
    }
   ],
   "source": [
    "arr3 = np.array([[1,2,3, 4],[4,5,6, 7],[7,8,9, 10]])\n",
    "arr3"
   ]
  },
  {
   "cell_type": "code",
   "execution_count": 281,
   "metadata": {},
   "outputs": [
    {
     "data": {
      "text/plain": [
       "(5, 5)"
      ]
     },
     "execution_count": 281,
     "metadata": {},
     "output_type": "execute_result"
    }
   ],
   "source": [
    "arr3[1][1], arr3[1,1]"
   ]
  },
  {
   "cell_type": "code",
   "execution_count": 282,
   "metadata": {},
   "outputs": [
    {
     "data": {
      "text/plain": [
       "array([[ 6,  7],\n",
       "       [ 9, 10]])"
      ]
     },
     "execution_count": 282,
     "metadata": {},
     "output_type": "execute_result"
    }
   ],
   "source": [
    "arr3[1:,2:]"
   ]
  },
  {
   "cell_type": "code",
   "execution_count": 283,
   "metadata": {},
   "outputs": [
    {
     "data": {
      "text/plain": [
       "array([], shape=(0, 4), dtype=int64)"
      ]
     },
     "execution_count": 283,
     "metadata": {},
     "output_type": "execute_result"
    }
   ],
   "source": [
    "arr3[1:][2:]"
   ]
  },
  {
   "cell_type": "code",
   "execution_count": null,
   "metadata": {},
   "outputs": [],
   "source": []
  }
 ],
 "metadata": {
  "kernelspec": {
   "display_name": "Python 3",
   "language": "python",
   "name": "python3"
  },
  "language_info": {
   "codemirror_mode": {
    "name": "ipython",
    "version": 3
   },
   "file_extension": ".py",
   "mimetype": "text/x-python",
   "name": "python",
   "nbconvert_exporter": "python",
   "pygments_lexer": "ipython3",
   "version": "3.7.4"
  }
 },
 "nbformat": 4,
 "nbformat_minor": 4
}
