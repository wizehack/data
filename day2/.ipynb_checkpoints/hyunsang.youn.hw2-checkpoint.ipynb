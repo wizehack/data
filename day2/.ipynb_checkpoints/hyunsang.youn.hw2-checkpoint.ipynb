{
 "cells": [
  {
   "cell_type": "code",
   "execution_count": 7,
   "metadata": {},
   "outputs": [
    {
     "name": "stdout",
     "output_type": "stream",
     "text": [
      "Enter name: kim\n",
      "Enter number of hours: 45\n",
      "Enter hously wege: 20\n",
      "950.0\n"
     ]
    }
   ],
   "source": [
    "class Wedge:\n",
    "    def __init__(self, name, time, wage):\n",
    "        self.name = name\n",
    "        self.time = time\n",
    "        self.wage = wage\n",
    "    \n",
    "    def payForWeek(self):\n",
    "        m = 0\n",
    "        if self.time > 40:\n",
    "            m1 = ((self.time - 40) * 1.5) * self.wage\n",
    "            m2 = 40 * self.wage\n",
    "            m = m1 + m2\n",
    "        else:\n",
    "            m = self.time * self.wage\n",
    "        return m\n",
    "\n",
    "print('Enter name:', end=' ')\n",
    "name = input()\n",
    "\n",
    "print('Enter number of hours:', end=' ')\n",
    "time = int(input())\n",
    "\n",
    "print('Enter hously wege:', end=' ')\n",
    "wege = float(input())\n",
    "w = Wedge(name, time, wege)\n",
    "m = w.payForWeek()\n",
    "print(m)"
   ]
  },
  {
   "cell_type": "code",
   "execution_count": 18,
   "metadata": {},
   "outputs": [],
   "source": [
    "f1 = open('Pre1990.txt', 'r')\n",
    "f2 = open('Retired.txt', 'r')\n",
    "f3 = open('Added.txt', 'r')\n",
    "\n",
    "s1 = {line.strip() for line in f1}\n",
    "s2 = {line.strip() for line in f2}\n",
    "s3 = {line.strip() for line in f3}\n",
    "\n",
    "s4 = s1.difference(s2)\n",
    "s5 = s4.union(s3)\n",
    "#print('s5: {}'.format(s5))\n",
    "\n",
    "ldata = sorted(s5)\n",
    "#print(len(ldata))\n",
    "\n",
    "with open ('Output.txt', 'a', encoding='utf8') as f4:\n",
    "    for n in ldata:\n",
    "        str = n + '\\n'\n",
    "        f4.write(str)\n",
    "\n",
    "f1.close()\n",
    "f2.close()\n",
    "f3.close()"
   ]
  },
  {
   "cell_type": "code",
   "execution_count": null,
   "metadata": {},
   "outputs": [],
   "source": []
  }
 ],
 "metadata": {
  "kernelspec": {
   "display_name": "Python 3",
   "language": "python",
   "name": "python3"
  },
  "language_info": {
   "codemirror_mode": {
    "name": "ipython",
    "version": 3
   },
   "file_extension": ".py",
   "mimetype": "text/x-python",
   "name": "python",
   "nbconvert_exporter": "python",
   "pygments_lexer": "ipython3",
   "version": "3.7.4"
  }
 },
 "nbformat": 4,
 "nbformat_minor": 4
}
