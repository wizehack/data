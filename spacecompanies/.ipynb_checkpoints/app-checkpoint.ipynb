{
 "cells": [
  {
   "cell_type": "code",
   "execution_count": 1,
   "id": "f991ff2b",
   "metadata": {},
   "outputs": [],
   "source": [
    "import pandas as pd\n",
    "import numpy as np\n",
    "import matplotlib.pyplot as plt\n",
    "import json as json\n"
   ]
  },
  {
   "cell_type": "code",
   "execution_count": 9,
   "id": "5b30570b",
   "metadata": {},
   "outputs": [],
   "source": [
    "with open('spaceCompanies.json','r') as json_file :\n",
    "\n",
    "    ddata = json.load(json_file)"
   ]
  },
  {
   "cell_type": "code",
   "execution_count": null,
   "id": "6b787875",
   "metadata": {},
   "outputs": [],
   "source": []
  },
  {
   "cell_type": "code",
   "execution_count": 10,
   "id": "efae094d",
   "metadata": {},
   "outputs": [
    {
     "data": {
      "text/html": [
       "<div>\n",
       "<style scoped>\n",
       "    .dataframe tbody tr th:only-of-type {\n",
       "        vertical-align: middle;\n",
       "    }\n",
       "\n",
       "    .dataframe tbody tr th {\n",
       "        vertical-align: top;\n",
       "    }\n",
       "\n",
       "    .dataframe thead th {\n",
       "        text-align: right;\n",
       "    }\n",
       "</style>\n",
       "<table border=\"1\" class=\"dataframe\">\n",
       "  <thead>\n",
       "    <tr style=\"text-align: right;\">\n",
       "      <th></th>\n",
       "      <th>companies</th>\n",
       "      <th>success</th>\n",
       "    </tr>\n",
       "  </thead>\n",
       "  <tbody>\n",
       "    <tr>\n",
       "      <th>0</th>\n",
       "      <td>{'_id': '58caff366ed7bb3c6ee62d16', 'company':...</td>\n",
       "      <td>True</td>\n",
       "    </tr>\n",
       "    <tr>\n",
       "      <th>1</th>\n",
       "      <td>{'_id': '58d163cd6ed7bb3c6ee62e63', 'company':...</td>\n",
       "      <td>True</td>\n",
       "    </tr>\n",
       "    <tr>\n",
       "      <th>2</th>\n",
       "      <td>{'_id': '58d2bcc36ed7bb3c6ee62ebc', 'company':...</td>\n",
       "      <td>True</td>\n",
       "    </tr>\n",
       "    <tr>\n",
       "      <th>3</th>\n",
       "      <td>{'_id': '58d2e0a56ed7bb3c6ee62f04', 'company':...</td>\n",
       "      <td>True</td>\n",
       "    </tr>\n",
       "    <tr>\n",
       "      <th>4</th>\n",
       "      <td>{'_id': '58d37e276ed7bb3c6ee62fa7', 'company':...</td>\n",
       "      <td>True</td>\n",
       "    </tr>\n",
       "    <tr>\n",
       "      <th>...</th>\n",
       "      <td>...</td>\n",
       "      <td>...</td>\n",
       "    </tr>\n",
       "    <tr>\n",
       "      <th>149</th>\n",
       "      <td>{'_id': '5fc622ed7d4cc4392b19d7f4', 'company':...</td>\n",
       "      <td>True</td>\n",
       "    </tr>\n",
       "    <tr>\n",
       "      <th>150</th>\n",
       "      <td>{'_id': '5fff03e7975ca80e320d443f', 'company':...</td>\n",
       "      <td>True</td>\n",
       "    </tr>\n",
       "    <tr>\n",
       "      <th>151</th>\n",
       "      <td>{'_id': '600737136739ef1c3b04e5f0', 'company':...</td>\n",
       "      <td>True</td>\n",
       "    </tr>\n",
       "    <tr>\n",
       "      <th>152</th>\n",
       "      <td>{'_id': '600833e33b2b9b72c4662c25', 'company':...</td>\n",
       "      <td>True</td>\n",
       "    </tr>\n",
       "    <tr>\n",
       "      <th>153</th>\n",
       "      <td>{'_id': '6011d10b6c2daf044dd2d7b6', 'company':...</td>\n",
       "      <td>True</td>\n",
       "    </tr>\n",
       "  </tbody>\n",
       "</table>\n",
       "<p>154 rows × 2 columns</p>\n",
       "</div>"
      ],
      "text/plain": [
       "                                             companies  success\n",
       "0    {'_id': '58caff366ed7bb3c6ee62d16', 'company':...     True\n",
       "1    {'_id': '58d163cd6ed7bb3c6ee62e63', 'company':...     True\n",
       "2    {'_id': '58d2bcc36ed7bb3c6ee62ebc', 'company':...     True\n",
       "3    {'_id': '58d2e0a56ed7bb3c6ee62f04', 'company':...     True\n",
       "4    {'_id': '58d37e276ed7bb3c6ee62fa7', 'company':...     True\n",
       "..                                                 ...      ...\n",
       "149  {'_id': '5fc622ed7d4cc4392b19d7f4', 'company':...     True\n",
       "150  {'_id': '5fff03e7975ca80e320d443f', 'company':...     True\n",
       "151  {'_id': '600737136739ef1c3b04e5f0', 'company':...     True\n",
       "152  {'_id': '600833e33b2b9b72c4662c25', 'company':...     True\n",
       "153  {'_id': '6011d10b6c2daf044dd2d7b6', 'company':...     True\n",
       "\n",
       "[154 rows x 2 columns]"
      ]
     },
     "execution_count": 10,
     "metadata": {},
     "output_type": "execute_result"
    }
   ],
   "source": [
    "df = pd.DataFrame(ddata)\n",
    "df"
   ]
  },
  {
   "cell_type": "code",
   "execution_count": null,
   "id": "5c034bc3",
   "metadata": {},
   "outputs": [],
   "source": []
  },
  {
   "cell_type": "code",
   "execution_count": null,
   "id": "85b01079",
   "metadata": {},
   "outputs": [],
   "source": []
  }
 ],
 "metadata": {
  "kernelspec": {
   "display_name": "Python 3",
   "language": "python",
   "name": "python3"
  },
  "language_info": {
   "codemirror_mode": {
    "name": "ipython",
    "version": 3
   },
   "file_extension": ".py",
   "mimetype": "text/x-python",
   "name": "python",
   "nbconvert_exporter": "python",
   "pygments_lexer": "ipython3",
   "version": "3.6.9"
  }
 },
 "nbformat": 4,
 "nbformat_minor": 5
}
