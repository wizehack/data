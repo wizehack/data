{
 "cells": [
  {
   "cell_type": "code",
   "execution_count": null,
   "metadata": {},
   "outputs": [],
   "source": [
    "print(\"이름을 입력하세요: \")\n",
    "name = input()\n",
    "\n",
    "print(\"나이를 입력하세요: \")\n",
    "age = int(input())\n",
    "\n",
    "print(\"시작 연봉을 입력하세요: \")\n",
    "salary = float(input())\n",
    "sum = salary # 첫해 연봉\n",
    "\n",
    "while age < 64:\n",
    "    # print('나이 {} : 연봉 {}'.format(age, sum))\n",
    "    age += 1\n",
    "    salary = salary + (salary * 0.05)\n",
    "    sum = sum + salary\n",
    "\n",
    "total_sal = int(sum)\n",
    "\n",
    "print(' 총 ${}를 벌 것이다'.format(total_sal))"
   ]
  },
  {
   "cell_type": "code",
   "execution_count": null,
   "metadata": {},
   "outputs": [],
   "source": [
    "ef option1(day):\n",
    "    return 100 * day\n",
    "\n",
    "def option2(day):\n",
    "        i = 0\n",
    "        m = 1\n",
    "        total = m;\n",
    "        while i < day:\n",
    "                m = m * 2\n",
    "                print(i, m)\n",
    "                i = i + 1\n",
    "                total = total + m\n",
    "        print(total)\n",
    "        return total\n",
    "\n",
    "opt1 = option1(10)\n",
    "opt2 = option2(10)\n",
    "\n",
    "if opt1 > opt2:\n",
    "        print(\"option1\")\n",
    "else:\n",
    "        print(\"option2\")"
   ]
  }
 ],
 "metadata": {
  "kernelspec": {
   "display_name": "Python 3",
   "language": "python",
   "name": "python3"
  },
  "language_info": {
   "codemirror_mode": {
    "name": "ipython",
    "version": 3
   },
   "file_extension": ".py",
   "mimetype": "text/x-python",
   "name": "python",
   "nbconvert_exporter": "python",
   "pygments_lexer": "ipython3",
   "version": "3.7.4"
  }
 },
 "nbformat": 4,
 "nbformat_minor": 4
}
